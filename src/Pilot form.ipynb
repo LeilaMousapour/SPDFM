{
 "cells": [
  {
   "cell_type": "code",
   "execution_count": 1,
   "metadata": {},
   "outputs": [],
   "source": [
    "import numpy\n",
    "from numpy import array\n",
    "import matplotlib.pyplot as plt\n",
    "from fenics import *\n"
   ]
  },
  {
   "cell_type": "code",
   "execution_count": 2,
   "metadata": {},
   "outputs": [],
   "source": [
    "def lightsource_in(p=None,d=None,wl=None, dt=None ):\n",
    "    print ('I am in :)')\n",
    "    global p\n",
    "    global d\n",
    "    global wl\n",
    "    global dt\n",
    "    \n",
    "    if p==None :\n",
    "        p=array(input(\"input p:\"))\n",
    "        print(p)\n",
    "    d=array(input(\"input d:\"))\n",
    "    print(d)\n",
    "    wl=input(\"input the wavelength:\")\n",
    "    dt=input(\"input the time step:\")\n",
    "\n"
   ]
  },
  {
   "cell_type": "markdown",
   "metadata": {},
   "source": [
    "For doing the "
   ]
  },
  {
   "cell_type": "code",
   "execution_count": 3,
   "metadata": {},
   "outputs": [],
   "source": [
    "\n",
    "def lightsource_setup():\n",
    "    \n",
    "    p=(1,0,0)\n",
    "    d=(0,1,0)\n",
    "    wl=530\n",
    "    \n",
    "\n"
   ]
  },
  {
   "cell_type": "code",
   "execution_count": null,
   "metadata": {},
   "outputs": [
    {
     "name": "stdout",
     "output_type": "stream",
     "text": [
      "I am in :)\n",
      "input p:(1,0,0)\n",
      "(1,0,0)\n"
     ]
    }
   ],
   "source": [
    "if __name__ == '__main__':\n",
    "    x=[0,1]\n",
    "    y=[0,1]\n",
    "    plt.plot(x,y)\n",
    "    lightsource_in()\n",
    "    lightsource_setup()\n",
    "    x=[0,1]\n",
    "    y=[0,1]\n",
    "    plt.plot(x,y)\n",
    "    plt.show()"
   ]
  },
  {
   "cell_type": "code",
   "execution_count": null,
   "metadata": {},
   "outputs": [],
   "source": []
  }
 ],
 "metadata": {
  "kernelspec": {
   "display_name": "Python 3",
   "language": "python",
   "name": "python3"
  },
  "language_info": {
   "codemirror_mode": {
    "name": "ipython",
    "version": 3
   },
   "file_extension": ".py",
   "mimetype": "text/x-python",
   "name": "python",
   "nbconvert_exporter": "python",
   "pygments_lexer": "ipython3",
   "version": "3.8.5"
  },
  "latex_envs": {
   "LaTeX_envs_menu_present": true,
   "autoclose": false,
   "autocomplete": false,
   "bibliofile": "biblio.bib",
   "cite_by": "apalike",
   "current_citInitial": 1,
   "eqLabelWithNumbers": true,
   "eqNumInitial": 1,
   "hotkeys": {
    "equation": "Ctrl-E",
    "itemize": "Ctrl-I"
   },
   "labels_anchors": false,
   "latex_user_defs": false,
   "report_style_numbering": false,
   "user_envs_cfg": false
  }
 },
 "nbformat": 4,
 "nbformat_minor": 4
}
