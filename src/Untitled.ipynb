{
 "cells": [
  {
   "cell_type": "code",
   "execution_count": null,
   "metadata": {},
   "outputs": [],
   "source": []
  },
  {
   "cell_type": "code",
   "execution_count": 1,
   "metadata": {},
   "outputs": [],
   "source": [
    "%matplotlib qt\n",
    "from fenics import *\n",
    "from mshr import *\n",
    "from math import sin, cos, pi\n",
    "\n",
    "a = 1.0   # inner radius of iron cylinder\n",
    "b = 1.2   # outer radius of iron cylinder\n",
    "c_1 = 0.8 # radius for inner circle of copper wires\n",
    "c_2 = 1.4 # radius for outer circle of copper wires\n",
    "r = 0.1   # radius of copper wires\n",
    "R = 5.0   # radius of domain\n",
    "n = 10    # number of windings\n"
   ]
  },
  {
   "cell_type": "code",
   "execution_count": 2,
   "metadata": {},
   "outputs": [],
   "source": [
    "# Define geometry for background\n",
    "domain = Circle(Point(0, 0), R)\n",
    "\n",
    "# Define geometry for iron cylinder\n",
    "cylinder = Circle(Point(0, 0), b) - Circle(Point(0, 0), a)\n",
    "\n",
    "# Define geometry for wires (N = North (up), S = South (down))\n",
    "angles_N = [i*2*pi/n for i in range(n)]\n",
    "angles_S = [(i + 0.5)*2*pi/n for i in range(n)]\n",
    "wires_N = [Circle(Point(c_1*cos(v), c_1*sin(v)), r) for v in angles_N]\n",
    "wires_S = [Circle(Point(c_2*cos(v), c_2*sin(v)), r) for v in angles_S]\n"
   ]
  },
  {
   "cell_type": "code",
   "execution_count": 3,
   "metadata": {},
   "outputs": [],
   "source": [
    "# Set subdomain for iron cylinder\n",
    "domain.set_subdomain(1, cylinder)\n",
    "\n",
    "# Set subdomains for wires\n",
    "for (i, wire) in enumerate(wires_N):\n",
    "    domain.set_subdomain(2 + i, wire)\n",
    "for (i, wire) in enumerate(wires_S):\n",
    "    domain.set_subdomain(2 + n + i, wire)"
   ]
  },
  {
   "cell_type": "code",
   "execution_count": 4,
   "metadata": {},
   "outputs": [],
   "source": [
    "mesh = generate_mesh(domain, 32)"
   ]
  },
  {
   "cell_type": "code",
   "execution_count": 5,
   "metadata": {},
   "outputs": [
    {
     "data": {
      "text/plain": [
       "[<matplotlib.lines.Line2D at 0x7fc53c0db370>,\n",
       " <matplotlib.lines.Line2D at 0x7fc53c0db700>]"
      ]
     },
     "execution_count": 5,
     "metadata": {},
     "output_type": "execute_result"
    }
   ],
   "source": [
    "#How to display\n",
    "plot(mesh)"
   ]
  },
  {
   "cell_type": "code",
   "execution_count": 6,
   "metadata": {},
   "outputs": [],
   "source": [
    "markers = MeshFunction('size_t', mesh, 2, mesh.domains())\n"
   ]
  },
  {
   "cell_type": "code",
   "execution_count": 7,
   "metadata": {},
   "outputs": [
    {
     "name": "stdout",
     "output_type": "stream",
     "text": [
      "<class 'dolfin.cpp.mesh.MeshFunctionSizet'>\n"
     ]
    },
    {
     "data": {
      "text/plain": [
       "<matplotlib.collections.PolyCollection at 0x7fc581b39af0>"
      ]
     },
     "execution_count": 7,
     "metadata": {},
     "output_type": "execute_result"
    }
   ],
   "source": [
    "print(type (markers))\n",
    "plot(markers)"
   ]
  },
  {
   "cell_type": "code",
   "execution_count": 8,
   "metadata": {},
   "outputs": [],
   "source": [
    "dx = Measure('dx', domain=mesh, subdomain_data=markers)"
   ]
  },
  {
   "cell_type": "code",
   "execution_count": 9,
   "metadata": {},
   "outputs": [],
   "source": [
    "\n",
    "# Define function space\n",
    "V = FunctionSpace(mesh, 'P', 1)\n",
    "\n",
    "# Define boundary condition\n",
    "bc = DirichletBC(V, Constant(0), 'on_boundary')"
   ]
  },
  {
   "cell_type": "code",
   "execution_count": 10,
   "metadata": {},
   "outputs": [],
   "source": [
    "#import sys\n",
    "#print(sys.getrecursionlimit()) #was 3000\n",
    "#sys.setrecursionlimit(8000)"
   ]
  },
  {
   "cell_type": "code",
   "execution_count": 11,
   "metadata": {},
   "outputs": [
    {
     "name": "stdout",
     "output_type": "stream",
     "text": [
      "WARNING: user expression has not supplied value_shape method or an element. Assuming scalar element.\n"
     ]
    }
   ],
   "source": [
    "# Define magnetic permeability\n",
    "class Permeability(UserExpression): # UserExpression instead of Expression\n",
    "    def __init__(self, markers, **kwargs):\n",
    "        super().__init__(**kwargs) # This part is new!\n",
    "        self.markers = markers\n",
    "    def eval_cell(self, values, x, cell):\n",
    "        if self.markers[cell.index] == 0:\n",
    "            values[0] = 4*pi*1e-7 # vacuum\n",
    "        elif self.markers[cell.index] == 1:\n",
    "            values[0] = 1e-5      # iron (should really be 6.3e-3)\n",
    "        else:\n",
    "            values[0] = 1.26e-6   # copper\n",
    "\n",
    "mu = Permeability(markers, degree=1)"
   ]
  },
  {
   "cell_type": "code",
   "execution_count": 13,
   "metadata": {},
   "outputs": [],
   "source": [
    "J_N = Constant(1.0)\n",
    "J_S = Constant(-1.0)\n",
    "A_z = TrialFunction(V)\n",
    "v = TestFunction(V)\n",
    "a = (1 / mu)*dot(grad(A_z), grad(v))*dx\n",
    "L_N = sum(J_N*v*dx(i) for i in range(2, 2 + n))\n",
    "L_S = sum(J_S*v*dx(i) for i in range(2 + n, 2 + 2*n))\n",
    "L = L_N + L_S\n"
   ]
  },
  {
   "cell_type": "code",
   "execution_count": 14,
   "metadata": {},
   "outputs": [
    {
     "name": "stdout",
     "output_type": "stream",
     "text": [
      "Calling FFC just-in-time (JIT) compiler, this may take some time.\n",
      "Calling FFC just-in-time (JIT) compiler, this may take some time.\n"
     ]
    },
    {
     "ename": "RuntimeError",
     "evalue": "\n\n*** -------------------------------------------------------------------------\n*** DOLFIN encountered an error. If you are not able to resolve this issue\n*** using the information listed below, you can ask for help at\n***\n***     fenics-support@googlegroups.com\n***\n*** Remember to include the error message listed below and, if possible,\n*** include a *minimal* running example to reproduce the error.\n***\n*** -------------------------------------------------------------------------\n*** Error:   Unable to assemble system.\n*** Reason:  expected a linear form for L.\n*** Where:   This error was encountered inside SystemAssembler.cpp.\n*** Process: 0\n*** \n*** DOLFIN version: 2019.2.0.dev0\n*** Git changeset:  unknown\n*** -------------------------------------------------------------------------\n",
     "output_type": "error",
     "traceback": [
      "\u001b[0;31m---------------------------------------------------------------------------\u001b[0m",
      "\u001b[0;31mRuntimeError\u001b[0m                              Traceback (most recent call last)",
      "\u001b[0;32m<ipython-input-14-bc466e486c04>\u001b[0m in \u001b[0;36m<module>\u001b[0;34m\u001b[0m\n\u001b[1;32m      1\u001b[0m \u001b[0mW\u001b[0m \u001b[0;34m=\u001b[0m \u001b[0mVectorFunctionSpace\u001b[0m\u001b[0;34m(\u001b[0m\u001b[0mmesh\u001b[0m\u001b[0;34m,\u001b[0m \u001b[0;34m'P'\u001b[0m\u001b[0;34m,\u001b[0m \u001b[0;36m1\u001b[0m\u001b[0;34m)\u001b[0m\u001b[0;34m\u001b[0m\u001b[0;34m\u001b[0m\u001b[0m\n\u001b[0;32m----> 2\u001b[0;31m \u001b[0mB\u001b[0m \u001b[0;34m=\u001b[0m \u001b[0mproject\u001b[0m\u001b[0;34m(\u001b[0m\u001b[0mas_vector\u001b[0m\u001b[0;34m(\u001b[0m\u001b[0;34m(\u001b[0m\u001b[0mA_z\u001b[0m\u001b[0;34m.\u001b[0m\u001b[0mdx\u001b[0m\u001b[0;34m(\u001b[0m\u001b[0;36m1\u001b[0m\u001b[0;34m)\u001b[0m\u001b[0;34m,\u001b[0m \u001b[0;34m-\u001b[0m\u001b[0mA_z\u001b[0m\u001b[0;34m.\u001b[0m\u001b[0mdx\u001b[0m\u001b[0;34m(\u001b[0m\u001b[0;36m0\u001b[0m\u001b[0;34m)\u001b[0m\u001b[0;34m)\u001b[0m\u001b[0;34m)\u001b[0m\u001b[0;34m,\u001b[0m \u001b[0mW\u001b[0m\u001b[0;34m)\u001b[0m\u001b[0;34m\u001b[0m\u001b[0;34m\u001b[0m\u001b[0m\n\u001b[0m",
      "\u001b[0;32m/usr/lib/python3/dist-packages/dolfin/fem/projection.py\u001b[0m in \u001b[0;36mproject\u001b[0;34m(v, V, bcs, mesh, function, solver_type, preconditioner_type, form_compiler_parameters)\u001b[0m\n\u001b[1;32m    130\u001b[0m \u001b[0;34m\u001b[0m\u001b[0m\n\u001b[1;32m    131\u001b[0m     \u001b[0;31m# Assemble linear system\u001b[0m\u001b[0;34m\u001b[0m\u001b[0;34m\u001b[0m\u001b[0;34m\u001b[0m\u001b[0m\n\u001b[0;32m--> 132\u001b[0;31m     A, b = assemble_system(a, L, bcs=bcs,\n\u001b[0m\u001b[1;32m    133\u001b[0m                            form_compiler_parameters=form_compiler_parameters)\n\u001b[1;32m    134\u001b[0m \u001b[0;34m\u001b[0m\u001b[0m\n",
      "\u001b[0;32m/usr/lib/python3/dist-packages/dolfin/fem/assembling.py\u001b[0m in \u001b[0;36massemble_system\u001b[0;34m(A_form, b_form, bcs, x0, form_compiler_parameters, add_values, finalize_tensor, keep_diagonal, A_tensor, b_tensor, backend)\u001b[0m\n\u001b[1;32m    421\u001b[0m \u001b[0;34m\u001b[0m\u001b[0m\n\u001b[1;32m    422\u001b[0m     \u001b[0;31m# Call C++ assemble function\u001b[0m\u001b[0;34m\u001b[0m\u001b[0;34m\u001b[0m\u001b[0;34m\u001b[0m\u001b[0m\n\u001b[0;32m--> 423\u001b[0;31m     \u001b[0massembler\u001b[0m \u001b[0;34m=\u001b[0m \u001b[0mcpp\u001b[0m\u001b[0;34m.\u001b[0m\u001b[0mfem\u001b[0m\u001b[0;34m.\u001b[0m\u001b[0mSystemAssembler\u001b[0m\u001b[0;34m(\u001b[0m\u001b[0mA_dolfin_form\u001b[0m\u001b[0;34m,\u001b[0m \u001b[0mb_dolfin_form\u001b[0m\u001b[0;34m,\u001b[0m \u001b[0mbcs\u001b[0m\u001b[0;34m)\u001b[0m\u001b[0;34m\u001b[0m\u001b[0;34m\u001b[0m\u001b[0m\n\u001b[0m\u001b[1;32m    424\u001b[0m     \u001b[0massembler\u001b[0m\u001b[0;34m.\u001b[0m\u001b[0madd_values\u001b[0m \u001b[0;34m=\u001b[0m \u001b[0madd_values\u001b[0m\u001b[0;34m\u001b[0m\u001b[0;34m\u001b[0m\u001b[0m\n\u001b[1;32m    425\u001b[0m     \u001b[0massembler\u001b[0m\u001b[0;34m.\u001b[0m\u001b[0mfinalize_tensor\u001b[0m \u001b[0;34m=\u001b[0m \u001b[0mfinalize_tensor\u001b[0m\u001b[0;34m\u001b[0m\u001b[0;34m\u001b[0m\u001b[0m\n",
      "\u001b[0;31mRuntimeError\u001b[0m: \n\n*** -------------------------------------------------------------------------\n*** DOLFIN encountered an error. If you are not able to resolve this issue\n*** using the information listed below, you can ask for help at\n***\n***     fenics-support@googlegroups.com\n***\n*** Remember to include the error message listed below and, if possible,\n*** include a *minimal* running example to reproduce the error.\n***\n*** -------------------------------------------------------------------------\n*** Error:   Unable to assemble system.\n*** Reason:  expected a linear form for L.\n*** Where:   This error was encountered inside SystemAssembler.cpp.\n*** Process: 0\n*** \n*** DOLFIN version: 2019.2.0.dev0\n*** Git changeset:  unknown\n*** -------------------------------------------------------------------------\n"
     ]
    }
   ],
   "source": [
    "W = VectorFunctionSpace(mesh, 'P', 1)\n",
    "B = project(as_vector((A_z.dx(1), -A_z.dx(0))), W)"
   ]
  },
  {
   "cell_type": "code",
   "execution_count": 25,
   "metadata": {},
   "outputs": [
    {
     "name": "stdout",
     "output_type": "stream",
     "text": [
      "WARNING: user expression has not supplied value_shape method or an element. Assuming scalar element.\n",
      "WARNING: user expression has not supplied value_shape method or an element. Assuming scalar element.\n",
      "{ v_0 * f_3203 } * dx(<Mesh #2821>[2], {})\n",
      "  +  { v_0 * f_3203 } * dx(<Mesh #2821>[3], {})\n",
      "  +  { v_0 * f_3203 } * dx(<Mesh #2821>[4], {})\n",
      "  +  { v_0 * f_3203 } * dx(<Mesh #2821>[5], {})\n",
      "  +  { v_0 * f_3203 } * dx(<Mesh #2821>[6], {})\n",
      "  +  { v_0 * f_3203 } * dx(<Mesh #2821>[7], {})\n",
      "  +  { v_0 * f_3203 } * dx(<Mesh #2821>[8], {})\n",
      "  +  { v_0 * f_3203 } * dx(<Mesh #2821>[9], {})\n",
      "  +  { v_0 * f_3203 } * dx(<Mesh #2821>[10], {})\n",
      "  +  { v_0 * f_3203 } * dx(<Mesh #2821>[11], {})\n",
      "{ v_0 * f_3204 } * dx(<Mesh #2821>[12], {})\n",
      "  +  { v_0 * f_3204 } * dx(<Mesh #2821>[13], {})\n",
      "  +  { v_0 * f_3204 } * dx(<Mesh #2821>[14], {})\n",
      "  +  { v_0 * f_3204 } * dx(<Mesh #2821>[15], {})\n",
      "  +  { v_0 * f_3204 } * dx(<Mesh #2821>[16], {})\n",
      "  +  { v_0 * f_3204 } * dx(<Mesh #2821>[17], {})\n",
      "  +  { v_0 * f_3204 } * dx(<Mesh #2821>[18], {})\n",
      "  +  { v_0 * f_3204 } * dx(<Mesh #2821>[19], {})\n",
      "  +  { v_0 * f_3204 } * dx(<Mesh #2821>[20], {})\n",
      "  +  { v_0 * f_3204 } * dx(<Mesh #2821>[21], {})\n",
      "{ v_0 * f_3203 } * dx(<Mesh #2821>[2], {})\n",
      "  +  { v_0 * f_3203 } * dx(<Mesh #2821>[3], {})\n",
      "  +  { v_0 * f_3203 } * dx(<Mesh #2821>[4], {})\n",
      "  +  { v_0 * f_3203 } * dx(<Mesh #2821>[5], {})\n",
      "  +  { v_0 * f_3203 } * dx(<Mesh #2821>[6], {})\n",
      "  +  { v_0 * f_3203 } * dx(<Mesh #2821>[7], {})\n",
      "  +  { v_0 * f_3203 } * dx(<Mesh #2821>[8], {})\n",
      "  +  { v_0 * f_3203 } * dx(<Mesh #2821>[9], {})\n",
      "  +  { v_0 * f_3203 } * dx(<Mesh #2821>[10], {})\n",
      "  +  { v_0 * f_3203 } * dx(<Mesh #2821>[11], {})\n",
      "  +  { v_0 * f_3204 } * dx(<Mesh #2821>[12], {})\n",
      "  +  { v_0 * f_3204 } * dx(<Mesh #2821>[13], {})\n",
      "  +  { v_0 * f_3204 } * dx(<Mesh #2821>[14], {})\n",
      "  +  { v_0 * f_3204 } * dx(<Mesh #2821>[15], {})\n",
      "  +  { v_0 * f_3204 } * dx(<Mesh #2821>[16], {})\n",
      "  +  { v_0 * f_3204 } * dx(<Mesh #2821>[17], {})\n",
      "  +  { v_0 * f_3204 } * dx(<Mesh #2821>[18], {})\n",
      "  +  { v_0 * f_3204 } * dx(<Mesh #2821>[19], {})\n",
      "  +  { v_0 * f_3204 } * dx(<Mesh #2821>[20], {})\n",
      "  +  { v_0 * f_3204 } * dx(<Mesh #2821>[21], {})\n"
     ]
    }
   ],
   "source": [
    "from fenics import *\n",
    "from mshr import *\n",
    "from math import sin, cos, pi\n",
    "\n",
    "a = 1.0   # inner radius of iron cylinder\n",
    "b = 1.2   # outer radius of iron cylinder\n",
    "c_1 = 0.8 # radius for inner circle of copper wires\n",
    "c_2 = 1.4 # radius for outer circle of copper wires\n",
    "r = 0.1   # radius of copper wires\n",
    "R = 5.0   # radius of domain\n",
    "n = 10    # number of windings\n",
    "\n",
    "# Define geometry for background\n",
    "domain = Circle(Point(0, 0), R)\n",
    "\n",
    "# Define geometry for iron cylinder\n",
    "cylinder = Circle(Point(0, 0), b) - Circle(Point(0, 0), a)\n",
    "\n",
    "# Define geometry for wires (N = North (up), S = South (down))\n",
    "angles_N = [i*2*pi/n for i in range(n)]\n",
    "angles_S = [(i + 0.5)*2*pi/n for i in range(n)]\n",
    "wires_N = [Circle(Point(c_1*cos(v), c_1*sin(v)), r) for v in angles_N]\n",
    "wires_S = [Circle(Point(c_2*cos(v), c_2*sin(v)), r) for v in angles_S]\n",
    "\n",
    "# Set subdomain for iron cylinder\n",
    "domain.set_subdomain(1, cylinder)\n",
    "\n",
    "# Set subdomains for wires\n",
    "for (i, wire) in enumerate(wires_N):\n",
    "    domain.set_subdomain(2 + i, wire)\n",
    "for (i, wire) in enumerate(wires_S):\n",
    "    domain.set_subdomain(2 + n + i, wire)\n",
    "\n",
    "# Create mesh\n",
    "mesh = generate_mesh(domain, 128)\n",
    "\n",
    "# Define function space\n",
    "V = FunctionSpace(mesh, 'P', 1)\n",
    "\n",
    "# Define boundary condition\n",
    "bc = DirichletBC(V, Constant(0), 'on_boundary')\n",
    "\n",
    "# Define subdomain markers and integration measure\n",
    "markers = MeshFunction('size_t', mesh, 2, mesh.domains())\n",
    "dx = Measure('dx', domain=mesh, subdomain_data=markers)\n",
    "\n",
    "# Define current densities\n",
    "J_N = Constant(1.0)\n",
    "J_S = Constant(-1.0)\n",
    "\n",
    "\n",
    "# Define magnetic permeability\n",
    "class Permeability(UserExpression): # UserExpression instead of Expression\n",
    "    def __init__(self, markers, **kwargs):\n",
    "        super().__init__(**kwargs) # This part is new!\n",
    "        self.markers = markers\n",
    "    def eval_cell(self, values, x, cell):\n",
    "        if self.markers[cell.index] == 0:\n",
    "            values[0] = 4*pi*1e-7 # vacuum\n",
    "        elif self.markers[cell.index] == 1:\n",
    "            values[0] = 1e-5      # iron (should really be 6.3e-3)\n",
    "        else:\n",
    "            values[0] = 1.26e-6   # copper\n",
    "\n",
    "mu = Permeability(markers, degree=1)\n",
    "\n",
    "mu = Permeability(markers, degree=1)\n",
    "\n",
    "# Define variational problem\n",
    "A_z = TrialFunction(V)\n",
    "v = TestFunction(V)\n",
    "a = (1 / mu)*dot(grad(A_z), grad(v))*dx\n",
    "L_N = sum(J_N*v*dx(i) for i in range(2, 2 + n))\n",
    "L_S = sum(J_S*v*dx(i) for i in range(2 + n, 2 + 2*n))\n",
    "L = L_N + L_S\n",
    "\n",
    "print(L_N)\n",
    "print(L_S)\n",
    "print(L)\n",
    "# Solve variational problem\n",
    "A_z = Function(V)\n",
    "solve(a == L, A_z, bc)\n",
    "\n",
    "# Compute magnetic field (B = curl A)\n",
    "W = VectorFunctionSpace(mesh, 'P', 1)\n",
    "B = project(as_vector((A_z.dx(1), -A_z.dx(0))), W)\n",
    "\n",
    "# Plot solution\n",
    "plot(A_z)\n",
    "plot(B)\n",
    "\n",
    "# Save solution to file\n",
    "vtkfile_A_z = File('magnetostatics/potential.pvd')\n",
    "vtkfile_B = File('magnetostatics/field.pvd')\n",
    "vtkfile_A_z << A_z\n",
    "vtkfile_B << B\n",
    "\n",
    "# Hold plot\n",
    "#interactive()"
   ]
  },
  {
   "cell_type": "code",
   "execution_count": 17,
   "metadata": {},
   "outputs": [
    {
     "data": {
      "text/plain": [
       "<matplotlib.quiver.Quiver at 0x7fc5128b83a0>"
      ]
     },
     "execution_count": 17,
     "metadata": {},
     "output_type": "execute_result"
    }
   ],
   "source": [
    "plot(B)"
   ]
  },
  {
   "cell_type": "code",
   "execution_count": 18,
   "metadata": {},
   "outputs": [
    {
     "data": {
      "text/plain": [
       "<matplotlib.tri.tricontour.TriContourSet at 0x7fc508e99a00>"
      ]
     },
     "execution_count": 18,
     "metadata": {},
     "output_type": "execute_result"
    }
   ],
   "source": [
    "plot(A_z)"
   ]
  },
  {
   "cell_type": "code",
   "execution_count": 21,
   "metadata": {},
   "outputs": [
    {
     "ename": "NameError",
     "evalue": "name 'raw_input' is not defined",
     "output_type": "error",
     "traceback": [
      "\u001b[0;31m---------------------------------------------------------------------------\u001b[0m",
      "\u001b[0;31mNameError\u001b[0m                                 Traceback (most recent call last)",
      "\u001b[0;32m<ipython-input-21-58ec289ca02b>\u001b[0m in \u001b[0;36m<module>\u001b[0;34m\u001b[0m\n\u001b[1;32m     24\u001b[0m \u001b[0;34m\u001b[0m\u001b[0m\n\u001b[1;32m     25\u001b[0m \u001b[0;31m# Get user input about which problem shall be solved\u001b[0m\u001b[0;34m\u001b[0m\u001b[0;34m\u001b[0m\u001b[0;34m\u001b[0m\u001b[0m\n\u001b[0;32m---> 26\u001b[0;31m \u001b[0mprob\u001b[0m \u001b[0;34m=\u001b[0m \u001b[0mraw_input\u001b[0m\u001b[0;34m(\u001b[0m\u001b[0;34m\"Please specify if you want to solve the Laplace or the Maxwell eigenproblem. \"\u001b[0m\u001b[0;34m)\u001b[0m\u001b[0;34m\u001b[0m\u001b[0;34m\u001b[0m\u001b[0m\n\u001b[0m\u001b[1;32m     27\u001b[0m \u001b[0mprob\u001b[0m \u001b[0;34m=\u001b[0m \u001b[0mprob\u001b[0m\u001b[0;34m.\u001b[0m\u001b[0mcapitalize\u001b[0m\u001b[0;34m(\u001b[0m\u001b[0;34m)\u001b[0m\u001b[0;34m\u001b[0m\u001b[0;34m\u001b[0m\u001b[0m\n\u001b[1;32m     28\u001b[0m \u001b[0mallowed_problems\u001b[0m \u001b[0;34m=\u001b[0m \u001b[0;34m[\u001b[0m\u001b[0;34m\"Maxwell\"\u001b[0m\u001b[0;34m,\u001b[0m \u001b[0;34m\"Laplace\"\u001b[0m\u001b[0;34m]\u001b[0m\u001b[0;34m\u001b[0m\u001b[0;34m\u001b[0m\u001b[0m\n",
      "\u001b[0;31mNameError\u001b[0m: name 'raw_input' is not defined"
     ]
    }
   ],
   "source": [
    "\"\"\"\n",
    "First trial in FEniCS to implement the Maxwell eigenvalue problem in 2D/3D using Nedelec elements\n",
    "(here compared with the Laplace eigenvalue problem using Lagrange elements)\n",
    "-Nabla x Nabla x u = k^2 u   on the domain\n",
    "\t\t\t n x u = 0 \t     on the boundary\n",
    "     \n",
    "\"\"\"\n",
    "\n",
    "from dolfin import *\n",
    "\n",
    "\n",
    "#----------- preliminary settings and checks -----------------------------------------------------------------------------------------------------------------\n",
    "\n",
    "\n",
    "# Test for PETSc and SLEPc\n",
    "if not has_linear_algebra_backend(\"PETSc\"):\n",
    "    print (\"DOLFIN has not been configured with PETSc. Exiting.\")\n",
    "    exit()\n",
    "\n",
    "if not has_slepc():\n",
    "    print (\"DOLFIN has not been configured with SLEPc. Exiting.\")\n",
    "    exit()\n",
    "\n",
    "\n",
    "# Get user input about which problem shall be solved\n",
    "prob = raw_input(\"Please specify if you want to solve the Laplace or the Maxwell eigenproblem. \")\n",
    "prob = prob.capitalize()\n",
    "allowed_problems = [\"Maxwell\", \"Laplace\"]\n",
    "if prob in allowed_problems:\n",
    "    print (\"The \", prob, \" eigenvalue problem will be solved.\")\n",
    "else:\n",
    "    print (\"That was not a valid choice.\")\n",
    "    exit()\n",
    "if prob == \"Maxwell\":\n",
    "    ind = 1\n",
    "else: \n",
    "    ind = 0\n",
    "    \n",
    "    \n",
    "# Get user input about how many eigenvalues to compute\n",
    "n_eigs = raw_input(\"Please specify the number of eigenvalues you want computed. \")\n",
    "n = int(n_eigs)\n",
    "if n > 100:\n",
    "    print (\"Sorry, that are too many.\")\n",
    "    exit()\n",
    "elif n < 1:\n",
    "    print (\"Sorry, that are too few.\")\n",
    "    exit()\n",
    "else:\n",
    "    print (\"The first \", n, \" eigenvalues and eigenfunctions will be computed.\")\n",
    "\n",
    "\n",
    "# Get user input about how many grid points to use\n",
    "grid_p = raw_input(\"Please specify the number of grid points to be used. \")\n",
    "p = int(grid_p)\n",
    "if p > 100:\n",
    "    print (\"Sorry, that are too many.\")\n",
    "    exit()\n",
    "elif p < 1:\n",
    "    print (\"Sorry, that are too few.\")\n",
    "    exit()\n",
    "    \n",
    "    \n",
    "#----------- actual calculations -----------------------------------------------------------------------------------------------------------------\n",
    "\n",
    "\n",
    "# Define mesh, function space\n",
    "#mesh = UnitCubeMesh(p,p,p)\n",
    "mesh = UnitSquareMesh(p,p)\n",
    "#mesh = CircleMesh(Point(0,0,0), 1, 0.05)\n",
    "\n",
    "# Maxwell or Laplace function space\n",
    "if ind > 0:\n",
    "    V = FunctionSpace(mesh, \"N1curl\", 1)\n",
    "else:\n",
    "    V = FunctionSpace(mesh, \"Lagrange\", 1)\n",
    "\n",
    "\n",
    "# Define basis and bilinear form\n",
    "u = TrialFunction(V)\n",
    "v = TestFunction(V)\n",
    "\n",
    "# Maxwell or Laplace bilinear form\n",
    "if ind > 0:\n",
    "    a = dot(curl(u), curl(v))*dx\n",
    "else:\n",
    "    a = dot(grad(u), grad(v))*dx\n",
    "\n",
    "\n",
    "# Assemble stiffness form\n",
    "A = PETScMatrix()\n",
    "assemble(a, tensor=A)\n",
    "\n",
    "# Create eigensolver\n",
    "eigensolver = SLEPcEigenSolver(A)\n",
    "\n",
    "# Compute n eigenvalues of A x = \\lambda x\n",
    "print (\"Computing the first\", n, \"eigenvalues. This can take a minute.\")\n",
    "eigensolver.solve(n)\n",
    "\n",
    "\n",
    "#----------- vizualization -----------------------------------------------------------------------------------------------------------------\n",
    "\n",
    "\n",
    "for i in range(0,n): \n",
    "    # Extract ith eigenpair\n",
    "    r, c, rx, cx = eigensolver.get_eigenpair(i)\n",
    "\n",
    "    print(i, \". eigenvalue: \", r)\n",
    "\n",
    "    # Initialize function and assign eigenvector\n",
    "    u = Function(V)\n",
    "    u.vector()[:] = rx\n",
    "\n",
    "    # Plot eigenfunction\n",
    "    plot(u)\n",
    "\n",
    "interactive()"
   ]
  },
  {
   "cell_type": "code",
   "execution_count": null,
   "metadata": {},
   "outputs": [],
   "source": []
  }
 ],
 "metadata": {
  "kernelspec": {
   "display_name": "Python 3",
   "language": "python",
   "name": "python3"
  },
  "language_info": {
   "codemirror_mode": {
    "name": "ipython",
    "version": 3
   },
   "file_extension": ".py",
   "mimetype": "text/x-python",
   "name": "python",
   "nbconvert_exporter": "python",
   "pygments_lexer": "ipython3",
   "version": "3.8.5"
  },
  "latex_envs": {
   "LaTeX_envs_menu_present": true,
   "autoclose": false,
   "autocomplete": false,
   "bibliofile": "biblio.bib",
   "cite_by": "apalike",
   "current_citInitial": 1,
   "eqLabelWithNumbers": true,
   "eqNumInitial": 1,
   "hotkeys": {
    "equation": "Ctrl-E",
    "itemize": "Ctrl-I"
   },
   "labels_anchors": false,
   "latex_user_defs": false,
   "report_style_numbering": false,
   "user_envs_cfg": false
  }
 },
 "nbformat": 4,
 "nbformat_minor": 4
}
